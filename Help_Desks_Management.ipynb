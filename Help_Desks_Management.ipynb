{
 "cells": [
  {
   "cell_type": "markdown",
   "id": "aa9a1bba-4bc1-4a81-8ff2-e989fa4a49ec",
   "metadata": {},
   "source": [
    "Practical - 6"
   ]
  },
  {
   "cell_type": "raw",
   "id": "f110e493-cc75-402e-bf47-960f3867a284",
   "metadata": {},
   "source": [
    "Implement any one of the following Expert System \n",
    "I. Information management\n",
    "II. Hospitals and medical facilities\n",
    "III. Help desks management\n",
    "IV. Employee performance evaluation\n",
    "V. Stock market trading\n",
    "VI. Airline scheduling and cargo schedules"
   ]
  },
  {
   "cell_type": "code",
   "execution_count": 4,
   "id": "9ee249fa-7cbb-4e14-ab46-99bb08dd5467",
   "metadata": {},
   "outputs": [
    {
     "name": "stdout",
     "output_type": "stream",
     "text": [
      "Welcome to the Help Desk!\n",
      "\n",
      "Please describe your technical issue or type 'quit' to exit: "
     ]
    },
    {
     "name": "stdin",
     "output_type": "stream",
     "text": [
      " My printer isn't working\n"
     ]
    },
    {
     "name": "stdout",
     "output_type": "stream",
     "text": [
      " Solution: Check if the printer is turned on. Make sure it's properly connected to your computer. Try restarting the printer.\n",
      "\n",
      "Please describe your technical issue or type 'quit' to exit: "
     ]
    },
    {
     "name": "stdin",
     "output_type": "stream",
     "text": [
      " I can't connect to the internet\n"
     ]
    },
    {
     "name": "stdout",
     "output_type": "stream",
     "text": [
      " Solution: Check if other devices are connected to the internet. Restart your router. Contact your internet service provider if the issue persists.\n",
      "\n",
      "Please describe your technical issue or type 'quit' to exit: "
     ]
    },
    {
     "name": "stdin",
     "output_type": "stream",
     "text": [
      " I'm having trouble installing software\n"
     ]
    },
    {
     "name": "stdout",
     "output_type": "stream",
     "text": [
      " Solution: Make sure your system meets the software requirements. Try running the installer as administrator. Disable antivirus software temporarily during installation.\n",
      "\n",
      "Please describe your technical issue or type 'quit' to exit: "
     ]
    },
    {
     "name": "stdin",
     "output_type": "stream",
     "text": [
      " My mouse isn't working\n"
     ]
    },
    {
     "name": "stdout",
     "output_type": "stream",
     "text": [
      "Sorry, I couldn't find a solution for that issue. Please contact support for further assistance.\n",
      "\n",
      "Please describe your technical issue or type 'quit' to exit: "
     ]
    },
    {
     "name": "stdin",
     "output_type": "stream",
     "text": [
      " quit\n"
     ]
    },
    {
     "name": "stdout",
     "output_type": "stream",
     "text": [
      "Thank you for using the Help Desk. Goodbye!\n"
     ]
    }
   ],
   "source": [
    "import random\n",
    "\n",
    "# Predefined issues and solutions\n",
    "issues = {\n",
    "    \"printer\": \"Check if the printer is turned on. Make sure it's properly connected to your computer. Try restarting the printer.\",\n",
    "    \"internet\": \"Check if other devices are connected to the internet. Restart your router. Contact your internet service provider if the issue persists.\",\n",
    "    \"software\": \"Make sure your system meets the software requirements. Try running the installer as administrator. Disable antivirus software temporarily during installation.\"\n",
    "}\n",
    "\n",
    "# Function to print prompt and get user input\n",
    "def get_user_input(prompt):\n",
    "    print(prompt, end='', flush=True)\n",
    "    return input().lower()\n",
    "\n",
    "# User Interface\n",
    "print(\"Welcome to the Help Desk!\")\n",
    "while True:\n",
    "    user_input = get_user_input(\"\\nPlease describe your technical issue or type 'quit' to exit: \")\n",
    "    if user_input == 'quit':\n",
    "        print(\"Thank you for using the Help Desk. Goodbye!\")\n",
    "        break\n",
    "    else:\n",
    "        for issue, solution in issues.items():\n",
    "            if issue in user_input:\n",
    "                print(\" Solution:\", solution)\n",
    "                break\n",
    "        else:\n",
    "            print(\"Sorry, I couldn't find a solution for that issue. Please contact support for further assistance.\")\n"
   ]
  },
  {
   "cell_type": "raw",
   "id": "a0d856ee-5eb7-493f-962d-96153e435510",
   "metadata": {},
   "source": [
    "Output me one by one ye lines likho -\n",
    "\n",
    "My printer isn't working\n",
    "I can't connect to the internet\n",
    "I'm having trouble installing software\n",
    "My mouse isn't working\n",
    "quit"
   ]
  },
  {
   "cell_type": "code",
   "execution_count": null,
   "id": "f5019973-6012-4302-927d-87ab02469a10",
   "metadata": {},
   "outputs": [],
   "source": []
  }
 ],
 "metadata": {
  "kernelspec": {
   "display_name": "Python 3 (ipykernel)",
   "language": "python",
   "name": "python3"
  },
  "language_info": {
   "codemirror_mode": {
    "name": "ipython",
    "version": 3
   },
   "file_extension": ".py",
   "mimetype": "text/x-python",
   "name": "python",
   "nbconvert_exporter": "python",
   "pygments_lexer": "ipython3",
   "version": "3.11.7"
  }
 },
 "nbformat": 4,
 "nbformat_minor": 5
}
