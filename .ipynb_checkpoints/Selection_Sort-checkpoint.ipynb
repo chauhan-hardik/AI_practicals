{
 "cells": [
  {
   "cell_type": "markdown",
   "id": "3d9e0c90-8732-4f16-b544-196875dd2457",
   "metadata": {},
   "source": [
    "Practical - 3"
   ]
  },
  {
   "cell_type": "raw",
   "id": "686baa99-dbb5-41fc-be5b-4cc9acaf75a8",
   "metadata": {},
   "source": [
    "Implement Greedy search algorithm for any of the following application:\n",
    "I. Selection Sort\n",
    "II. Minimum Spanning Tree\n",
    "III. Single-Source Shortest Path Problem\n",
    "IV. Job Scheduling Problem\n",
    "V. Prim's Minimal Spanning Tree Algorithm\n",
    "VI. Kruskal's Minimal Spanning Tree Algorithm\n",
    "VII. Dijkstra's Minimal Spanning Tree Algorithm"
   ]
  },
  {
   "cell_type": "code",
   "execution_count": 3,
   "id": "475017b6-fd59-41ce-bbce-0b7f27dcbf51",
   "metadata": {},
   "outputs": [
    {
     "name": "stdout",
     "output_type": "stream",
     "text": [
      "Sorted array: [11, 12, 22, 25, 64]\n"
     ]
    }
   ],
   "source": [
    "# Selecion sort\n",
    "def greedy_selection_sort(arr):\n",
    "    n = len(arr)\n",
    "    # Traverse through all array elements\n",
    "    for i in range(n):\n",
    "        min_index = i\n",
    "        # Find the minimum element in remaining unsorted array\n",
    "        for j in range(i + 1, n):\n",
    "            if arr[j] < arr[min_index]:\n",
    "                min_index = j\n",
    "        # Swap the found minimum element with the first element\n",
    "        arr[i], arr[min_index] = arr[min_index], arr[i]\n",
    "    return arr\n",
    "\n",
    "# Example usage\n",
    "arr = [64, 25, 12, 22, 11]\n",
    "sorted_arr = greedy_selection_sort(arr)\n",
    "print(\"Sorted array:\", sorted_arr)"
   ]
  },
  {
   "cell_type": "code",
   "execution_count": null,
   "id": "f6c570d6-17a7-4363-b75e-6d4cbb85b7b3",
   "metadata": {},
   "outputs": [],
   "source": []
  }
 ],
 "metadata": {
  "kernelspec": {
   "display_name": "Python 3 (ipykernel)",
   "language": "python",
   "name": "python3"
  },
  "language_info": {
   "codemirror_mode": {
    "name": "ipython",
    "version": 3
   },
   "file_extension": ".py",
   "mimetype": "text/x-python",
   "name": "python",
   "nbconvert_exporter": "python",
   "pygments_lexer": "ipython3",
   "version": "3.11.7"
  }
 },
 "nbformat": 4,
 "nbformat_minor": 5
}
