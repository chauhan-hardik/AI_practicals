{
 "cells": [
  {
   "cell_type": "markdown",
   "id": "8be176a5-cd61-4f54-a48c-8cc280c527a3",
   "metadata": {},
   "source": [
    "Practical - 4"
   ]
  },
  {
   "cell_type": "markdown",
   "id": "7404f85b-bd46-4854-8b7b-9104e237ce3b",
   "metadata": {},
   "source": [
    "Implement a solution for a Constraint Satisfaction Problem using Branch and Bound and Backtracking for n-queens problem or a graph coloring problem."
   ]
  },
  {
   "cell_type": "code",
   "execution_count": 9,
   "id": "bb9e32d7-b2b8-4dcf-8265-9e348d10eb12",
   "metadata": {},
   "outputs": [],
   "source": [
    "# Example usage:\n",
    "graph = {\n",
    "    0: [1, 2],\n",
    "    1: [0, 2],\n",
    "    2: [0, 1],\n",
    "    3: [4],\n",
    "    4: [3]\n",
    "}\n",
    "\n",
    "# Define the colors\n",
    "colors = ['Red', 'Green', 'Blue']"
   ]
  },
  {
   "cell_type": "code",
   "execution_count": 10,
   "id": "cf7f7f99-b80d-49dc-afa8-0cc767d2dcb0",
   "metadata": {},
   "outputs": [],
   "source": [
    "def graph_coloring(graph, colors):\n",
    "    result = {}                                        # Initialize an empty dictionary to store the color assignment for each node\n",
    "\n",
    "    # Function to check if it's safe to color the node with a given color\n",
    "    def is_safe(node, color):\n",
    "        for neighbor in graph[node]:                   # Check if any neighboring node has the same color\n",
    "            if neighbor in result and result[neighbor] == color:\n",
    "                return False\n",
    "        return True\n",
    "\n",
    "    # Backtracking function to assign colors to nodes\n",
    "    def backtrack(node):\n",
    "        if node == len(graph):                         # Base case: If all nodes are colored, return True\n",
    "            return True\n",
    "        # Try coloring the node with each available color\n",
    "        for color in colors:\n",
    "            if is_safe(node, color):\n",
    "                result[node] = color\n",
    "                if backtrack(node + 1):                # Recur for the next node\n",
    "                    return True\n",
    "                result.pop(node)                       # If coloring with this color doesn't lead to a solution, backtrack\n",
    "        return False\n",
    "\n",
    "    # Call the backtracking function starting from the first node\n",
    "    if backtrack(0):\n",
    "        return result                  # Return the color assignment if a solution is found\n",
    "    else:\n",
    "        return \"No solution exists\"    # If no solution is found"
   ]
  },
  {
   "cell_type": "code",
   "execution_count": 11,
   "id": "f3d014d3-2b8b-427d-b9b3-47edc5edda78",
   "metadata": {},
   "outputs": [
    {
     "name": "stdout",
     "output_type": "stream",
     "text": [
      "Coloring of vertices:\n",
      "Vertex 0 --> Red\n",
      "Vertex 1 --> Green\n",
      "Vertex 2 --> Blue\n",
      "Vertex 3 --> Red\n",
      "Vertex 4 --> Green\n"
     ]
    }
   ],
   "source": [
    "# Find the coloring solution\n",
    "solution = graph_coloring(graph, colors)\n",
    "\n",
    "# Print the solution\n",
    "print(\"Coloring of vertices:\")\n",
    "for node, color in solution.items():\n",
    "    print(f\"Vertex {node} --> {color}\")"
   ]
  }
 ],
 "metadata": {
  "kernelspec": {
   "display_name": "Python 3 (ipykernel)",
   "language": "python",
   "name": "python3"
  },
  "language_info": {
   "codemirror_mode": {
    "name": "ipython",
    "version": 3
   },
   "file_extension": ".py",
   "mimetype": "text/x-python",
   "name": "python",
   "nbconvert_exporter": "python",
   "pygments_lexer": "ipython3",
   "version": "3.11.7"
  }
 },
 "nbformat": 4,
 "nbformat_minor": 5
}
