{
 "cells": [
  {
   "cell_type": "markdown",
   "id": "9f4e9036-e722-4212-a307-749f8d3004de",
   "metadata": {},
   "source": [
    "Practical - 1"
   ]
  },
  {
   "cell_type": "markdown",
   "id": "5df305b9-9334-4e95-a447-0e61e42e4ea7",
   "metadata": {},
   "source": [
    "Implement depth first search algorithm and Breadth First Search algorithm, Use an undirected graph and develop a recursive algorithm for searching all the vertices of a graph or tree data structure."
   ]
  },
  {
   "cell_type": "code",
   "execution_count": 25,
   "id": "7e8156c5-d611-4cef-b51c-2c6e41fe056d",
   "metadata": {},
   "outputs": [],
   "source": [
    "# Define the graph as an adjacency list\n",
    "graph = {\n",
    "    'A': ['B', 'C'],\n",
    "    'B': ['D', 'E'],\n",
    "    'C': ['F'],\n",
    "    'D': [],\n",
    "    'E': ['F'],\n",
    "    'F': []\n",
    "}"
   ]
  },
  {
   "cell_type": "code",
   "execution_count": 26,
   "id": "aa2d1f1b-942d-4165-a1a0-a9e3fb437886",
   "metadata": {},
   "outputs": [
    {
     "name": "stdout",
     "output_type": "stream",
     "text": [
      "DFS Recursive:\n",
      "A B D E F C "
     ]
    }
   ],
   "source": [
    "# DFS explores as far as possible along each branch before backtracking.\n",
    "# Depth First Search (DFS)\n",
    "def dfs_recursive(visited, graph, node):\n",
    "    if node not in visited:                                  # Check if the current node has not been visited yet\n",
    "        print(node, end=' ')                                 # Print the current node and mark it as visited\n",
    "        visited.append(node)\n",
    "        for neighbour in graph[node]:                        # Recursively visit all neighbors of the current node\n",
    "            dfs_recursive(visited, graph, neighbour)\n",
    "\n",
    "# Driver code for Depth First Search (DFS)\n",
    "print(\"DFS Recursive:\")\n",
    "dfs_recursive([], graph, 'A')                   # Call DFS with an empty visited list and starting node 'A'"
   ]
  },
  {
   "cell_type": "code",
   "execution_count": 27,
   "id": "a533b9c5-7ba2-4a16-a255-98908e61940e",
   "metadata": {},
   "outputs": [
    {
     "name": "stdout",
     "output_type": "stream",
     "text": [
      "BFS Recursive:\n",
      "A B C D E F "
     ]
    }
   ],
   "source": [
    "# BFS explores all neighbor nodes at the present depth before moving to the nodes at the next depth level.\n",
    "# It starts at the root node and explores all of the neighbor nodes at the present depth prior to moving on to the nodes at the next depth level.\n",
    "# Breadth First Search (BFS) \n",
    "def bfs_recursive(queue, visited, graph):\n",
    "    if not queue:\n",
    "        return\n",
    "    node = queue.pop(0)                # Dequeue the first node from the queue\n",
    "    if node not in visited:            # Check if the dequeued node has not been visited yet\n",
    "        print(node, end=' ')           # Print the current node and mark it as visited\n",
    "        visited.append(node)\n",
    "        # Enqueue all unvisited neighbors of the current node\n",
    "        for neighbour in graph[node]:\n",
    "            if neighbour not in visited:\n",
    "                queue.append(neighbour)\n",
    "    bfs_recursive(queue, visited, graph)        # Recursively call BFS with the updated queue and visited set\n",
    "\n",
    "# Driver code for Breadth First Search (BFS)\n",
    "print(\"BFS Recursive:\")\n",
    "bfs_recursive(['A'], [], graph)          # Call BFS with a list containing the starting node 'B' and empty visited set"
   ]
  },
  {
   "cell_type": "code",
   "execution_count": null,
   "id": "2a7236db-1fb8-467e-9455-201b012a3d44",
   "metadata": {},
   "outputs": [],
   "source": []
  }
 ],
 "metadata": {
  "kernelspec": {
   "display_name": "Python 3 (ipykernel)",
   "language": "python",
   "name": "python3"
  },
  "language_info": {
   "codemirror_mode": {
    "name": "ipython",
    "version": 3
   },
   "file_extension": ".py",
   "mimetype": "text/x-python",
   "name": "python",
   "nbconvert_exporter": "python",
   "pygments_lexer": "ipython3",
   "version": "3.11.7"
  }
 },
 "nbformat": 4,
 "nbformat_minor": 5
}
