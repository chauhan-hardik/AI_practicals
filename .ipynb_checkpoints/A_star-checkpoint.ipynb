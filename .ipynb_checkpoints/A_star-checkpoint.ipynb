{
 "cells": [
  {
   "cell_type": "markdown",
   "id": "de4eaf00-4ebd-4e21-85a6-c3ac67e09a0b",
   "metadata": {},
   "source": [
    "Practical - 2"
   ]
  },
  {
   "cell_type": "markdown",
   "id": "28b46db7-c8c4-409f-8deb-0b5f01155c50",
   "metadata": {},
   "source": [
    "Implement A star Algorithm for any game search problem."
   ]
  },
  {
   "cell_type": "code",
   "execution_count": 14,
   "id": "7f25a993-31c1-4a0e-9efe-1822a1854f29",
   "metadata": {},
   "outputs": [
    {
     "name": "stdout",
     "output_type": "stream",
     "text": [
      "Path found: A to D \n",
      "A -> B -> D\n"
     ]
    }
   ],
   "source": [
    "import heapq\n",
    "\n",
    "# Define a Node class to represent states in the game\n",
    "class Node:\n",
    "    def __init__(self, state, parent=None, g=0, h=0):   \n",
    "        self.state = state                #  state: The current state of the game\n",
    "        self.parent = parent              #  parent: The parent node in the search graph\n",
    "        self.g = g                        #  g: The cost from the start node to the current node\n",
    "        self.h = h                        #  h: The heuristic estimate from the current node to the goal node\n",
    "\n",
    "    def f(self):  \n",
    "        return self.g + self.h                 # Calculate the sum of g and h\n",
    "\n",
    "    def __lt__(self, other):\n",
    "        return self.f() < other.f()            # Comparison method for heapq\n",
    "\n",
    "    def __eq__(self, other):\n",
    "        return self.state == other.state       # Comparison method for equality\n",
    "\n",
    "# A* search function\n",
    "def astar(start_state, goal_state, adjacency_list, heuristic):\n",
    "        # start_state: The starting state of the game\n",
    "        # goal_state: The goal state of the game\n",
    "        # adjacency_list: A dictionary representing connections between nodes\n",
    "        # heuristic: A function to estimate the distance between states\n",
    "    \n",
    "    open_set = []\n",
    "    closed_set = set()\n",
    "    heapq.heappush(open_set, Node(start_state, None, 0, heuristic(start_state, goal_state)))\n",
    "\n",
    "    while open_set:\n",
    "        current_node = heapq.heappop(open_set)\n",
    "\n",
    "        if current_node.state == goal_state:\n",
    "            path = []\n",
    "            while current_node:\n",
    "                path.append(current_node.state)\n",
    "                current_node = current_node.parent\n",
    "            return path[::-1]\n",
    "\n",
    "        closed_set.add(current_node.state)\n",
    "\n",
    "        for neighbor_state, cost in adjacency_list.get(current_node.state, []):\n",
    "            if neighbor_state in closed_set:\n",
    "                continue\n",
    "\n",
    "            g = current_node.g + cost\n",
    "            h = heuristic(neighbor_state, goal_state)\n",
    "            neighbor_node = Node(neighbor_state, current_node, g, h)\n",
    "            heapq.heappush(open_set, neighbor_node)\n",
    "\n",
    "    return None  # No path found\n",
    "\n",
    "# Example heuristic function (Manhattan distance for 2D grid)\n",
    "def manhattan_distance(state, goal_state):\n",
    "    # Calculate the Manhattan distance between two states\n",
    "    x1, y1 = state\n",
    "    x2, y2 = goal_state\n",
    "    return abs(x1 - x2) + abs(y1 - y2)\n",
    "\n",
    "# Example adjacency list representing connections between nodes\n",
    "adjacency_list = {\n",
    "    'A': [('B', 1), ('C', 3), ('D', 7)],\n",
    "    'B': [('D', 5)],\n",
    "    'C': [('D', 12)]\n",
    "}\n",
    "\n",
    "# Example usage\n",
    "start_state = 'A'\n",
    "goal_state = 'D'\n",
    "path = astar(start_state, goal_state, adjacency_list, lambda x, y: 0)  # Pass a dummy heuristic for now\n",
    "\n",
    "# Print Output\n",
    "if path:\n",
    "    print(\"Path found: {} to {} \\n{}\".format(start_state, goal_state, ' -> '.join(path)))\n",
    "else:\n",
    "    print(\"No path found from {} to {}.\".format(start_state, goal_state))"
   ]
  },
  {
   "cell_type": "code",
   "execution_count": null,
   "id": "e8e668fc-3174-47e3-9290-b60fcfd1bfd3",
   "metadata": {},
   "outputs": [],
   "source": []
  }
 ],
 "metadata": {
  "kernelspec": {
   "display_name": "Python 3 (ipykernel)",
   "language": "python",
   "name": "python3"
  },
  "language_info": {
   "codemirror_mode": {
    "name": "ipython",
    "version": 3
   },
   "file_extension": ".py",
   "mimetype": "text/x-python",
   "name": "python",
   "nbconvert_exporter": "python",
   "pygments_lexer": "ipython3",
   "version": "3.11.7"
  }
 },
 "nbformat": 4,
 "nbformat_minor": 5
}
