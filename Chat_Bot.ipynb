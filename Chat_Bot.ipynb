{
 "cells": [
  {
   "cell_type": "markdown",
   "id": "de61f798-440f-4054-9082-72137a888448",
   "metadata": {},
   "source": [
    "Practical - 5"
   ]
  },
  {
   "cell_type": "markdown",
   "id": "adb77062-6e87-4caa-b86f-1cd763786b70",
   "metadata": {},
   "source": [
    "Develop an elementary chatbot for any suitable customer interaction application."
   ]
  },
  {
   "cell_type": "code",
   "execution_count": 2,
   "id": "fd1ca558-bb6e-4115-b6c3-6be2b10f6c99",
   "metadata": {},
   "outputs": [
    {
     "name": "stdout",
     "output_type": "stream",
     "text": [
      "Hi, I'm ChatBot! How can I assist you today?\n"
     ]
    },
    {
     "name": "stdin",
     "output_type": "stream",
     "text": [
      "> Hey\n"
     ]
    },
    {
     "name": "stdout",
     "output_type": "stream",
     "text": [
      "Hey there!\n"
     ]
    },
    {
     "name": "stdin",
     "output_type": "stream",
     "text": [
      "> How are you?\n"
     ]
    },
    {
     "name": "stdout",
     "output_type": "stream",
     "text": [
      "I'm doing well, thank you!\n"
     ]
    },
    {
     "name": "stdin",
     "output_type": "stream",
     "text": [
      "> My name is Devin\n"
     ]
    },
    {
     "name": "stdout",
     "output_type": "stream",
     "text": [
      "Hello devin, how can I help you today?\n"
     ]
    },
    {
     "name": "stdin",
     "output_type": "stream",
     "text": [
      "> What is the weather like today?\n"
     ]
    },
    {
     "name": "stdout",
     "output_type": "stream",
     "text": [
      "Sorry, I didn't understand that. Can you please rephrase?\n"
     ]
    },
    {
     "name": "stdin",
     "output_type": "stream",
     "text": [
      "> How are you?\n"
     ]
    },
    {
     "name": "stdout",
     "output_type": "stream",
     "text": [
      "I'm doing fine, thanks for asking.\n"
     ]
    },
    {
     "name": "stdin",
     "output_type": "stream",
     "text": [
      "> quit\n"
     ]
    },
    {
     "name": "stdout",
     "output_type": "stream",
     "text": [
      "Bye! Take care.\n"
     ]
    }
   ],
   "source": [
    "import nltk\n",
    "from nltk.chat.util import Chat, reflections\n",
    "\n",
    "# Define pairs of patterns and responses\n",
    "pairs = [\n",
    "    [\n",
    "        r\"my name is (.*)\",\n",
    "        [\"Hello %1, how can I help you today?\",]\n",
    "    ],\n",
    "    [\n",
    "        r\"how are you ?\",\n",
    "        [\"I'm doing well, thank you!\", \"I'm doing fine, thanks for asking.\",]\n",
    "    ],\n",
    "    [\n",
    "        r\"hi|hey|hello\",\n",
    "        [\"Hello!\", \"Hey there!\",]\n",
    "    ],\n",
    "    [\n",
    "        r\"(.*) age?\",\n",
    "        [\"I'm just a computer program, I don't have an age.\",]\n",
    "    ],\n",
    "    [\n",
    "        r\"quit\",\n",
    "        [\"Bye! Take care.\", \"Goodbye! Have a great day.\",]\n",
    "    ],\n",
    "    [\n",
    "        r\"(.*)\",\n",
    "        [\"Sorry, I didn't understand that. Can you please rephrase?\",]\n",
    "    ],\n",
    "]\n",
    "\n",
    "# Create a chatbot with the pairs defined above\n",
    "def chatbot():\n",
    "    print(\"Hi, I'm ChatBot! How can I assist you today?\")\n",
    "    chat = Chat(pairs, reflections)\n",
    "    chat.converse()\n",
    "\n",
    "if __name__ == \"__main__\":\n",
    "    chatbot()"
   ]
  },
  {
   "cell_type": "raw",
   "id": "e9d4c594-625b-4e87-ad89-f4da07362893",
   "metadata": {},
   "source": [
    "Output me one by one ye lines likho - \n",
    "\n",
    "Hey\n",
    "How are you?\n",
    "My name is Devin\n",
    "What is the weather like today?\n",
    "How are you?\n",
    "quit"
   ]
  },
  {
   "cell_type": "code",
   "execution_count": null,
   "id": "8e933936-5717-40c8-bb1c-08d5b539ccb0",
   "metadata": {},
   "outputs": [],
   "source": []
  }
 ],
 "metadata": {
  "kernelspec": {
   "display_name": "Python 3 (ipykernel)",
   "language": "python",
   "name": "python3"
  },
  "language_info": {
   "codemirror_mode": {
    "name": "ipython",
    "version": 3
   },
   "file_extension": ".py",
   "mimetype": "text/x-python",
   "name": "python",
   "nbconvert_exporter": "python",
   "pygments_lexer": "ipython3",
   "version": "3.11.7"
  }
 },
 "nbformat": 4,
 "nbformat_minor": 5
}
